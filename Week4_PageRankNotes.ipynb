{
  "nbformat": 4,
  "nbformat_minor": 0,
  "metadata": {
    "colab": {
      "name": "Week4_PageRankNotes.ipynb",
      "provenance": [],
      "collapsed_sections": [],
      "authorship_tag": "ABX9TyOLZ/a215XCeFR/sfTNIPQB",
      "include_colab_link": true
    },
    "kernelspec": {
      "name": "python3",
      "display_name": "Python 3"
    },
    "language_info": {
      "name": "python"
    }
  },
  "cells": [
    {
      "cell_type": "markdown",
      "metadata": {
        "id": "view-in-github",
        "colab_type": "text"
      },
      "source": [
        "<a href=\"https://colab.research.google.com/github/ecaldwe1/DSCI502_DataMiningAtScale/blob/main/Week4_PageRankNotes.ipynb\" target=\"_parent\"><img src=\"https://colab.research.google.com/assets/colab-badge.svg\" alt=\"Open In Colab\"/></a>"
      ]
    },
    {
      "cell_type": "code",
      "source": [
        "import numpy as np"
      ],
      "metadata": {
        "id": "fsbaQhMtVwcx"
      },
      "execution_count": null,
      "outputs": []
    },
    {
      "cell_type": "code",
      "execution_count": null,
      "metadata": {
        "colab": {
          "base_uri": "https://localhost:8080/"
        },
        "id": "vtUnzr5tVX6y",
        "outputId": "b7dd7d8b-90a3-4bfa-e93d-6c0fbfdb268e"
      },
      "outputs": [
        {
          "output_type": "execute_result",
          "data": {
            "text/plain": [
              "[[0, 0.5, 1, 0],\n",
              " [0.3333333333333333, 0, 0, 0.5],\n",
              " [0.3333333333333333, 0, 0, 0.5],\n",
              " [0.3333333333333333, 0.5, 0, 0]]"
            ]
          },
          "metadata": {},
          "execution_count": 4
        }
      ],
      "source": [
        "M = [[0, 0.5, 0, 0],\n",
        "\t  [1/3, 0, 1, 0.5],\n",
        "\t  [1/3, 0, 0, 0.5],\n",
        "\t  [1/3, 0.5, 0, 0]]\n",
        "# fix errors inputing M\n",
        "M[1][2]=0\n",
        "M[0][2]=1\n",
        "M # verify M is correct"
      ]
    },
    {
      "cell_type": "code",
      "source": [
        "v = .25 * np.ones(4)\n",
        "v"
      ],
      "metadata": {
        "colab": {
          "base_uri": "https://localhost:8080/"
        },
        "id": "u23npSiFV5V4",
        "outputId": "b92bea7f-e53e-49c9-be22-f93247ba285c"
      },
      "execution_count": null,
      "outputs": [
        {
          "output_type": "execute_result",
          "data": {
            "text/plain": [
              "array([0.25, 0.25, 0.25, 0.25])"
            ]
          },
          "metadata": {},
          "execution_count": 5
        }
      ]
    },
    {
      "cell_type": "code",
      "source": [
        "v=np.dot(M,v)\n",
        "v #[0.375, 0.208333, 0.208333, 0.208333"
      ],
      "metadata": {
        "colab": {
          "base_uri": "https://localhost:8080/"
        },
        "id": "69to5Bh3V8n4",
        "outputId": "20450452-007c-455f-9494-f6c1a1de8682"
      },
      "execution_count": null,
      "outputs": [
        {
          "output_type": "execute_result",
          "data": {
            "text/plain": [
              "array([0.375     , 0.20833333, 0.20833333, 0.20833333])"
            ]
          },
          "metadata": {},
          "execution_count": 6
        }
      ]
    },
    {
      "cell_type": "code",
      "source": [
        "v=np.dot(M,v)\n",
        "v"
      ],
      "metadata": {
        "colab": {
          "base_uri": "https://localhost:8080/"
        },
        "id": "gQJ955yuWHpv",
        "outputId": "b0c5a5a6-18cc-4853-a498-f0d27392508b"
      },
      "execution_count": null,
      "outputs": [
        {
          "output_type": "execute_result",
          "data": {
            "text/plain": [
              "array([0.3125    , 0.22916667, 0.22916667, 0.22916667])"
            ]
          },
          "metadata": {},
          "execution_count": 7
        }
      ]
    },
    {
      "cell_type": "code",
      "source": [
        "v=np.dot(M,v)\n",
        "v"
      ],
      "metadata": {
        "colab": {
          "base_uri": "https://localhost:8080/"
        },
        "id": "bcTQYqTPWDnN",
        "outputId": "69170299-581e-41ad-d3e2-cdbab1db2ec9"
      },
      "execution_count": null,
      "outputs": [
        {
          "output_type": "execute_result",
          "data": {
            "text/plain": [
              "array([0.328125  , 0.22395833, 0.22395833, 0.22395833])"
            ]
          },
          "metadata": {},
          "execution_count": 9
        }
      ]
    },
    {
      "cell_type": "code",
      "source": [
        "# if we do this many times, we see that v starts to converge\n",
        "for i in range(10):\n",
        "  v=np.dot(M,v)\n",
        "  print(v)"
      ],
      "metadata": {
        "colab": {
          "base_uri": "https://localhost:8080/"
        },
        "id": "t96oYxwPWMp-",
        "outputId": "5496822c-feb9-47b3-fb2c-700cc3692929"
      },
      "execution_count": null,
      "outputs": [
        {
          "output_type": "stream",
          "name": "stdout",
          "text": [
            "[0.33333588 0.22222137 0.22222137 0.22222137]\n",
            "[0.33333206 0.22222265 0.22222265 0.22222265]\n",
            "[0.33333397 0.22222201 0.22222201 0.22222201]\n",
            "[0.33333302 0.22222233 0.22222233 0.22222233]\n",
            "[0.33333349 0.22222217 0.22222217 0.22222217]\n",
            "[0.33333325 0.22222225 0.22222225 0.22222225]\n",
            "[0.33333337 0.22222221 0.22222221 0.22222221]\n",
            "[0.33333331 0.22222223 0.22222223 0.22222223]\n",
            "[0.33333334 0.22222222 0.22222222 0.22222222]\n",
            "[0.33333333 0.22222222 0.22222222 0.22222222]\n"
          ]
        }
      ]
    },
    {
      "cell_type": "code",
      "source": [
        "# one more update\n",
        "v=np.dot(M,v)\n",
        "v"
      ],
      "metadata": {
        "colab": {
          "base_uri": "https://localhost:8080/"
        },
        "id": "VYS1REUoWM4C",
        "outputId": "46340808-ce22-43ee-bb22-938cccebfebe"
      },
      "execution_count": null,
      "outputs": [
        {
          "output_type": "execute_result",
          "data": {
            "text/plain": [
              "array([0.33333334, 0.22222222, 0.22222222, 0.22222222])"
            ]
          },
          "metadata": {},
          "execution_count": 12
        }
      ]
    },
    {
      "cell_type": "markdown",
      "source": [
        "The stochastic matrix that we have (columns summing to 1), guaranteed to be one vector $v$, for which there is an eigenvalue of 1 ($v$ would be the eigenvector). \n",
        "\n",
        "Our iterate $v_n$ will converge to vector $v$, where the sum of the $v_i$ is 1 as well (probability vector)\n"
      ],
      "metadata": {
        "id": "5krC3kgpWubw"
      }
    },
    {
      "cell_type": "markdown",
      "source": [
        "The simplified page rank of some page $j$, will be the $j^{th}$ coordinate (value of $v(j)$) where $v$ is the steady-state vector described above."
      ],
      "metadata": {
        "id": "NCLmJ1OUXMzG"
      }
    },
    {
      "cell_type": "code",
      "source": [
        "for i in range(100):\n",
        "  v=np.dot(M,v)\n",
        "\n",
        "v"
      ],
      "metadata": {
        "colab": {
          "base_uri": "https://localhost:8080/"
        },
        "id": "FsfbRRFwWkvH",
        "outputId": "d3c1a7ec-9863-413b-b04a-06d46a1e077f"
      },
      "execution_count": null,
      "outputs": [
        {
          "output_type": "execute_result",
          "data": {
            "text/plain": [
              "array([0.33333333, 0.22222222, 0.22222222, 0.22222222])"
            ]
          },
          "metadata": {},
          "execution_count": 13
        }
      ]
    },
    {
      "cell_type": "code",
      "source": [
        "v=np.dot(M,v)\n",
        "v"
      ],
      "metadata": {
        "colab": {
          "base_uri": "https://localhost:8080/"
        },
        "id": "68TCvQ6_YS4d",
        "outputId": "ca391724-3408-4a8e-d9fd-0f9e739e6912"
      },
      "execution_count": null,
      "outputs": [
        {
          "output_type": "execute_result",
          "data": {
            "text/plain": [
              "array([0.33333333, 0.22222222, 0.22222222, 0.22222222])"
            ]
          },
          "metadata": {},
          "execution_count": 15
        }
      ]
    },
    {
      "cell_type": "markdown",
      "source": [
        "we can see that v converges to [1/3, 2/9, 2/9, 2/9]\n"
      ],
      "metadata": {
        "id": "K0WV4nl5YxmR"
      }
    },
    {
      "cell_type": "markdown",
      "source": [
        "# Week 6\n",
        "## Page Rank (continued)\n",
        "\n",
        "### The Problems with our Assumptions\n",
        "The assumption that the graph is strongly-connected and contains no dead-ends does not reflect the reality of the true web-graph.\n",
        "\n",
        "Now we will take a look at how the algorithm is impacted by the presence of a dead-end."
      ],
      "metadata": {
        "id": "d4XAN_TwZW4q"
      }
    },
    {
      "cell_type": "code",
      "source": [
        "# dead-end example\n",
        "M = np.array([[0,0.5,0,0],[1/3,0,0,0.5], [1/3,0,0,0.5], [1/3,0.5,0,0]])\n",
        "M"
      ],
      "metadata": {
        "colab": {
          "base_uri": "https://localhost:8080/"
        },
        "id": "23iRTFhmY5ar",
        "outputId": "c8cc63df-d720-45cd-a955-c561226ee732"
      },
      "execution_count": null,
      "outputs": [
        {
          "output_type": "execute_result",
          "data": {
            "text/plain": [
              "array([[0.        , 0.5       , 0.        , 0.        ],\n",
              "       [0.33333333, 0.        , 0.        , 0.5       ],\n",
              "       [0.33333333, 0.        , 0.        , 0.5       ],\n",
              "       [0.33333333, 0.5       , 0.        , 0.        ]])"
            ]
          },
          "metadata": {},
          "execution_count": 17
        }
      ]
    },
    {
      "cell_type": "code",
      "source": [
        "v=0.25*np.ones(4)\n",
        "v"
      ],
      "metadata": {
        "colab": {
          "base_uri": "https://localhost:8080/"
        },
        "id": "9HRT2IiIciQl",
        "outputId": "85bb858c-1d50-4d5b-981d-31102b6f4611"
      },
      "execution_count": null,
      "outputs": [
        {
          "output_type": "execute_result",
          "data": {
            "text/plain": [
              "array([0.5, 0.5, 0.5, 0.5])"
            ]
          },
          "metadata": {},
          "execution_count": 19
        }
      ]
    },
    {
      "cell_type": "code",
      "source": [
        "for i in range(100):\n",
        "  v=np.dot(M,v)"
      ],
      "metadata": {
        "id": "Mb4nQAgZcnBt"
      },
      "execution_count": null,
      "outputs": []
    },
    {
      "cell_type": "code",
      "source": [
        "v"
      ],
      "metadata": {
        "colab": {
          "base_uri": "https://localhost:8080/"
        },
        "id": "IGYurr4Zc0ye",
        "outputId": "c267f302-8926-4e1b-fc1c-dcde864a74db"
      },
      "execution_count": null,
      "outputs": [
        {
          "output_type": "execute_result",
          "data": {
            "text/plain": [
              "array([6.85655349e-15, 9.99292692e-15, 9.99292692e-15, 9.99292692e-15])"
            ]
          },
          "metadata": {},
          "execution_count": 21
        }
      ]
    },
    {
      "cell_type": "markdown",
      "source": [
        "It is possible that the graph contains no dead-ends, but is not strongly connected. This leads to problems which are known as *spider traps*."
      ],
      "metadata": {
        "id": "qXrGGaOyc5II"
      }
    },
    {
      "cell_type": "code",
      "source": [
        "# not strongly connected example\n",
        "M2 = np.array([[0,0.5,0,0],[1/3,0,0,0.5], [1/3,0,1,0.5], [1/3,0.5,0,0]])\n",
        "M2"
      ],
      "metadata": {
        "colab": {
          "base_uri": "https://localhost:8080/"
        },
        "id": "m3itW84Rc1mD",
        "outputId": "6e77667e-beb4-4348-dce8-0f07862f3d6f"
      },
      "execution_count": null,
      "outputs": [
        {
          "output_type": "execute_result",
          "data": {
            "text/plain": [
              "array([[0.        , 0.5       , 0.        , 0.        ],\n",
              "       [0.33333333, 0.        , 0.        , 0.5       ],\n",
              "       [0.33333333, 0.        , 1.        , 0.5       ],\n",
              "       [0.33333333, 0.5       , 0.        , 0.        ]])"
            ]
          },
          "metadata": {},
          "execution_count": 23
        }
      ]
    },
    {
      "cell_type": "code",
      "source": [
        "v2 = 0.25*np.ones(4)\n",
        "v2"
      ],
      "metadata": {
        "colab": {
          "base_uri": "https://localhost:8080/"
        },
        "id": "aY5-_Bp8erZG",
        "outputId": "758af4d8-fc99-453a-d1da-bb604c49c433"
      },
      "execution_count": null,
      "outputs": [
        {
          "output_type": "execute_result",
          "data": {
            "text/plain": [
              "array([0.25, 0.25, 0.25, 0.25])"
            ]
          },
          "metadata": {},
          "execution_count": 25
        }
      ]
    },
    {
      "cell_type": "code",
      "source": [
        "for i in range(100):\n",
        "  v2=np.dot(M2,v2)\n",
        "\n",
        "v2"
      ],
      "metadata": {
        "colab": {
          "base_uri": "https://localhost:8080/"
        },
        "id": "WfnpFWYievK2",
        "outputId": "26c3e747-2e95-489e-b852-5f6a0cf5fde3"
      },
      "execution_count": null,
      "outputs": [
        {
          "output_type": "execute_result",
          "data": {
            "text/plain": [
              "array([3.42827674e-15, 4.99646346e-15, 1.00000000e+00, 4.99646346e-15])"
            ]
          },
          "metadata": {},
          "execution_count": 26
        }
      ]
    },
    {
      "cell_type": "markdown",
      "source": [
        "We see that all the probability is concentrated at C.\n",
        "The naive simplified pagerank would suggest that C is a very important web page, which may not be the case. \n",
        "\n",
        "But it makes sense since any other vertex will eventually reach C and have nowhere to go from there."
      ],
      "metadata": {
        "id": "eD6QtmIFe9OS"
      }
    },
    {
      "cell_type": "markdown",
      "source": [
        "As we have seen the presence of dead-ends and spider traps can render the PageRank algorithm ineffective. A means of escaping from a dead-end or spider trap is desirable.\n",
        "\n",
        "To this end, we will introduce the concept of teleportation.\n",
        "Teleporation refers to a process by which the random-surfer may choose not to follow a link on the current page and teleport immediately to a randomly selected page contained in the web.\n",
        "\n",
        "The decision to teleport is determined randomly by a parameter beta. In other words, let beta give the probability that the surfer follows a randomly chosen link. The iteration can be summarized as\n",
        "\n",
        "$v_n = (1-β)v_0+βMv_{n-1}$\n",
        "\n",
        "It can be shown that the iterates will converge to a non-zero vector $v$. This vector will give the PageRanks."
      ],
      "metadata": {
        "id": "bj_eVP2ce6he"
      }
    },
    {
      "cell_type": "code",
      "source": [
        "# Teleportation example\n",
        "M3 = M2\n",
        "M3"
      ],
      "metadata": {
        "colab": {
          "base_uri": "https://localhost:8080/"
        },
        "id": "fdV5tTBoi0z4",
        "outputId": "9446b197-30ca-4176-c279-eab9c31407f3"
      },
      "execution_count": null,
      "outputs": [
        {
          "output_type": "execute_result",
          "data": {
            "text/plain": [
              "array([[0.        , 0.5       , 0.        , 0.        ],\n",
              "       [0.33333333, 0.        , 0.        , 0.5       ],\n",
              "       [0.33333333, 0.        , 1.        , 0.5       ],\n",
              "       [0.33333333, 0.5       , 0.        , 0.        ]])"
            ]
          },
          "metadata": {},
          "execution_count": 31
        }
      ]
    },
    {
      "cell_type": "code",
      "source": [
        "v3=0.25*np.ones(4)\n",
        "v3"
      ],
      "metadata": {
        "colab": {
          "base_uri": "https://localhost:8080/"
        },
        "id": "hyOitISji5la",
        "outputId": "fa617ed7-1315-42aa-98c5-89f989831242"
      },
      "execution_count": null,
      "outputs": [
        {
          "output_type": "execute_result",
          "data": {
            "text/plain": [
              "array([0.25, 0.25, 0.25, 0.25])"
            ]
          },
          "metadata": {},
          "execution_count": 41
        }
      ]
    },
    {
      "cell_type": "code",
      "source": [
        "v0=0.25*np.ones(4)\n",
        "v0"
      ],
      "metadata": {
        "colab": {
          "base_uri": "https://localhost:8080/"
        },
        "id": "llES5vc5jBsP",
        "outputId": "4fd87fca-9f4c-49d3-977d-cbd40065151c"
      },
      "execution_count": null,
      "outputs": [
        {
          "output_type": "execute_result",
          "data": {
            "text/plain": [
              "array([0.25, 0.25, 0.25, 0.25])"
            ]
          },
          "metadata": {},
          "execution_count": 42
        }
      ]
    },
    {
      "cell_type": "code",
      "source": [
        "b=0.85"
      ],
      "metadata": {
        "id": "d8HSrcmsjGft"
      },
      "execution_count": null,
      "outputs": []
    },
    {
      "cell_type": "code",
      "source": [
        "v3=(1-b)*v0+b*np.dot(M3,v3)\n",
        "v3"
      ],
      "metadata": {
        "colab": {
          "base_uri": "https://localhost:8080/"
        },
        "id": "n7JSW_FRjIQq",
        "outputId": "b2b0c5ec-12d4-4856-dab1-f2444dab2c91"
      },
      "execution_count": null,
      "outputs": [
        {
          "output_type": "execute_result",
          "data": {
            "text/plain": [
              "array([0.14375   , 0.21458333, 0.42708333, 0.21458333])"
            ]
          },
          "metadata": {},
          "execution_count": 44
        }
      ]
    },
    {
      "cell_type": "code",
      "source": [
        "for i in range(100):\n",
        "  v3=(1-b)*v0+b*np.dot(M3,v3)\n",
        "\n",
        "v3"
      ],
      "metadata": {
        "colab": {
          "base_uri": "https://localhost:8080/"
        },
        "id": "jsFn_-_ZjZqB",
        "outputId": "526ae01d-6723-4873-f663-262a4a9c0bf5"
      },
      "execution_count": null,
      "outputs": [
        {
          "output_type": "execute_result",
          "data": {
            "text/plain": [
              "array([0.08249313, 0.10586618, 0.70577452, 0.10586618])"
            ]
          },
          "metadata": {},
          "execution_count": 45
        }
      ]
    },
    {
      "cell_type": "markdown",
      "source": [
        "We see now, that while C has a higher probability, we do have non-zero probabilities for the other nodes. \n",
        "\n",
        "At this point, we may want to remove dead-ends and then apply this method. Other methods exist that would deal with larger webs, but you can read about them in the text Mining of Massive Data Sets."
      ],
      "metadata": {
        "id": "Vhdn9Tx7kTrT"
      }
    }
  ]
}