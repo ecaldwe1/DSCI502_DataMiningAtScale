{
  "nbformat": 4,
  "nbformat_minor": 0,
  "metadata": {
    "colab": {
      "name": "Week9_ExponentiallyDecayingWindowsNotes.ipynb",
      "provenance": [],
      "collapsed_sections": [],
      "authorship_tag": "ABX9TyMgEkxb5a45G6Ejj4pjVpFL",
      "include_colab_link": true
    },
    "kernelspec": {
      "name": "python3",
      "display_name": "Python 3"
    },
    "language_info": {
      "name": "python"
    }
  },
  "cells": [
    {
      "cell_type": "markdown",
      "metadata": {
        "id": "view-in-github",
        "colab_type": "text"
      },
      "source": [
        "<a href=\"https://colab.research.google.com/github/ecaldwe1/DSCI502_DataMiningAtScale/blob/main/Week9_ExponentiallyDecayingWindowsNotes.ipynb\" target=\"_parent\"><img src=\"https://colab.research.google.com/assets/colab-badge.svg\" alt=\"Open In Colab\"/></a>"
      ]
    },
    {
      "cell_type": "markdown",
      "source": [
        "# Exponentially Decaying Windows\n",
        "\n",
        "We will briefly discuss the idea of **exponentially decaying windows**. \n",
        "\n",
        "Suppose that we have a stream of elements, $a_0, ..., a_t$.\n",
        "\n",
        "We will define the **exponentially decaying window** as\n",
        "\n",
        "$$ \\sum_{i=0}^t a_{t-i}(1-c)^i$$\n",
        "\n",
        "where $c$ is a small constant.\n",
        "\n",
        "From this, we see that we are giving greater weight to elements of the stream which are closer to the present.\n",
        "\n",
        "$$ a_t + a_{t-1}(1-c) + a_{t-2}(1-c)^2 + ... + a_0(1-c)^t$$\n",
        "\n",
        "The book uses the example of movie ticket sales, where you would like to determine the most popular current movie. We would like to give greater weight to the ticket sales that are more recent.\n",
        "\n",
        "Suppose a new value comes in, $a_{t+1}$. \n",
        "Then we get:\n",
        "$$ a_{t+1} + a_t(1-c) + a_{t-1}(1-c)^2 + a_{t-2}(1-c)^3 + ... +  a_0(1-c)^{t+1}$$.\n",
        "\n",
        "we are taking the previous value and multiplying it by $(1-c)$ and then adding $a_{t+1}$ to it.\n",
        "\n",
        "$$ (1-c) [a_t + a_{t-1}(1-c) + a_{t-2}(1-c)^2 + ... + a_0(1-c)^t] + a_{t+1}$$"
      ],
      "metadata": {
        "id": "Gufb5t8OVoha"
      }
    }
  ]
}